{
 "cells": [
  {
   "cell_type": "code",
   "execution_count": 16,
   "metadata": {},
   "outputs": [],
   "source": [
    "import plotly.express as px\n",
    "import pandas as pd\n",
    "\n",
    "# Data\n",
    "data = {\n",
    "    'Scene': ['City Street', 'Highway', 'Parking Lot', 'Residential', 'Tunnel', 'Undefined'],\n",
    "    'Average Vehicles per Frame': [3.454910, 2.842640, 4.125000, 4.401639, 1.000000, 1.000000]\n",
    "}\n",
    "\n",
    "df = pd.DataFrame(data)\n",
    "\n",
    "# Create bar chart\n",
    "fig = px.bar(df, x='Scene', y='Average Vehicles per Frame',\n",
    "             title='Average Vehicles per Frame by Scene',\n",
    "             labels={'Average Vehicles per Frame': 'Avg Vehicles per Frame'},\n",
    "             color='Scene',\n",
    "             text_auto=True)\n",
    "\n",
    "# Show the interactive chart\n",
    "fig.show()\n"
   ]
  },
  {
   "cell_type": "code",
   "execution_count": 18,
   "metadata": {},
   "outputs": [],
   "source": [
    "import plotly.express as px\n",
    "import pandas as pd\n",
    "import plotly.io as pio\n",
    "\n",
    "# Set default renderer for Spyder\n",
    "pio.renderers.default = 'browser'\n",
    "\n",
    "# Data\n",
    "data = {\n",
    "    'Weather': ['Clear', 'Foggy', 'Overcast', 'Partly Cloudy', 'Rainy', 'Snowy'],\n",
    "    'Average Vehicles per Frame': [3.055172, 1.000000, 4.016393, 3.574713, 2.942029, 3.442857]\n",
    "}\n",
    "\n",
    "df = pd.DataFrame(data)\n",
    "\n",
    "# Create bar chart\n",
    "fig = px.bar(df, x='Weather', y='Average Vehicles per Frame',\n",
    "             title='Average Vehicles per Frame by Weather Condition',\n",
    "             labels={'Average Vehicles per Frame': 'Avg Vehicles per Frame'},\n",
    "             color='Weather',\n",
    "             text_auto=True)\n",
    "\n",
    "# Show the interactive chart\n",
    "fig.show()\n"
   ]
  },
  {
   "cell_type": "code",
   "execution_count": 19,
   "metadata": {},
   "outputs": [],
   "source": [
    "import plotly.express as px\n",
    "import pandas as pd\n",
    "import plotly.io as pio\n",
    "\n",
    "# Set default renderer for Spyder\n",
    "pio.renderers.default = 'browser'\n",
    "\n",
    "# Data\n",
    "data = {\n",
    "    'Time of Day': ['daytime', 'dusk', 'night'],\n",
    "    'Average Vehicles per Frame': [3.518207, 3.325581, 1.928571]\n",
    "}\n",
    "\n",
    "df = pd.DataFrame(data)\n",
    "\n",
    "# Create bar chart\n",
    "fig = px.bar(df, x='Time of Day', y='Average Vehicles per Frame',\n",
    "             title='Average Vehicles per Frame by Time of Day',\n",
    "             labels={'Average Vehicles per Frame': 'Avg Vehicles per Frame'},\n",
    "             color='Time of Day',\n",
    "             text_auto=True)\n",
    "\n",
    "# Show the interactive chart\n",
    "fig.show()\n"
   ]
  }
 ],
 "metadata": {
  "kernelspec": {
   "display_name": "garvitenv",
   "language": "python",
   "name": "python3"
  },
  "language_info": {
   "codemirror_mode": {
    "name": "ipython",
    "version": 3
   },
   "file_extension": ".py",
   "mimetype": "text/x-python",
   "name": "python",
   "nbconvert_exporter": "python",
   "pygments_lexer": "ipython3",
   "version": "3.12.8"
  }
 },
 "nbformat": 4,
 "nbformat_minor": 2
}
